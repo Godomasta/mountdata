{
 "metadata": {
  "language_info": {
   "codemirror_mode": {
    "name": "ipython",
    "version": 3
   },
   "file_extension": ".py",
   "mimetype": "text/x-python",
   "name": "python",
   "nbconvert_exporter": "python",
   "pygments_lexer": "ipython3",
   "version": "3.7.9-final"
  },
  "orig_nbformat": 2,
  "kernelspec": {
   "name": "python_defaultSpec_1600376647791",
   "display_name": "Python 3.7.9 64-bit"
  }
 },
 "nbformat": 4,
 "nbformat_minor": 2,
 "cells": [
  {
   "cell_type": "code",
   "execution_count": 2,
   "metadata": {
    "tags": []
   },
   "outputs": [],
   "source": [
    "import praw\n",
    "import os\n",
    "reddit = praw.Reddit(client_id = os.environ['praw_client'], client_secret = os.environ['praw_token'], user_agent = 'mountdata')"
   ]
  },
  {
   "source": [
    "hot = reddit.subreddit('MtAugusta').hot(limit=10)\n",
    "comments = []\n",
    "for post in hot:\n",
    "    for comment in reddit.submission(id=post).comments:\n",
    "        comments.append(comment.body)"
   ],
   "cell_type": "code",
   "metadata": {
    "tags": []
   },
   "execution_count": 7,
   "outputs": [
    {
     "output_type": "stream",
     "name": "stdout",
     "text": "['What a tremendous summary', 'Stop censoring posts on r/mtaugustajustice', '[Robokaiser, reconfirming on Atropal.](https://i.imgur.com/ymH3AFq.jpeg)', '[Vend3tta\\\\_\\\\_, reconfirming](https://i.imgur.com/5k5540y.jpg)', 'scramble0\\n\\n[https://i.imgur.com/jFPD4oC.jpeg](https://i.imgur.com/jFPD4oC.jpeg)', 'The books are cooked! Is this voter intimidation??', 'scramble0  \\n\\n\\n***F****or* ***T****he* ***C****hildren!*', 'aye', 'What would cup of industry even do?', 'Aye', 'aye', 'How can the Diplomat also serve as the Cup of Industry? I will consider this appointment.', 'Long live Mount Augusta!', 'Aye', 'Is this a bill vote?', 'aye', \"I was going to say I don't think this is a legal vote because it doesn't say [Bill vote] in the title but then I checked the constitution and it says that only [Bill] is required.  \\n\\nWhen did this change? It was not clear to me looking at the thread title that this was a vote.\", 'Aye', '> i. Legislation in Mount Augusta is law, which may be created or amended by the legislative process, which is as follows:\\n\\n> > a. Any eligible voter **may** propose a bill by posting a thread with “[Bill Discussion]” in the title is posted on r/MtAugusta, which should stay up for at least two days;\\n\\n> > b.No more than seven days after the “[Bill Discussion]” thread has elapsed, a thread with “[Bill]” in the title is posted on r/MtAugusta, with the final version of the bill, on which registered voters may vote for or against for two days; then\\n\\n> > c. After the “[Bill]” thread has elapsed, a thread with “[Bill Result]” in the title is posted on r/MtAugusta which counts the valid votes, with, if a majority (50.1%) of the votes are for as opposed to against, the bill passing into law.\\n\\nFor reference to those curious.', 'Isit', 'Isit', 'Isit', 'Isit2004', 'DarkyDu', 'DarkyDu', 'Isit', 'isit it is!', 'how could someone who is pearled be judge?  \\n1. isit2004\\n\\n2. gantoe\\n\\n3. darkydu', 'Isit', \"The registration thing is dumb, we've always held that registering does not instantaneously grant you the right to vote.  \\n\\nThe whole point is to avoid people brigading voting threads who have held no interest in MtA until their more politically-active friends go bug them to vote because they are losing.\", 'Interesting bill discussion! Many people discussing this are also discussing how DARKYDU is the BEST CANDIDATE for MOUNT AUGUSTA JUDGE.', 'k\\n\\nEdit: not k. \\n\\n\\n>d. A Judge may resign by posting their resignation publicly on /r/MtAugusta. The process to elect a new judge to fill the gap as described by **Article VI, Part E** must begin **immediately after** a resignation post. The replacement will serve the remainder of the former Judge’s term.\\n\\n\\nArticle VI, Part E is the section on trials, you mean Article V, Part E which is the elections', 'Good initiave', 'How about protecting THE RIGHTS! MABOR!']\n"
    }
   ]
  },
  {
   "cell_type": "code",
   "execution_count": null,
   "metadata": {},
   "outputs": [],
   "source": []
  }
 ]
}